{
 "cells": [
  {
   "cell_type": "markdown",
   "metadata": {},
   "source": [
    "# Init"
   ]
  },
  {
   "cell_type": "code",
   "execution_count": 3,
   "metadata": {
    "ExecuteTime": {
     "end_time": "2018-06-19T07:51:50.826799Z",
     "start_time": "2018-06-19T07:51:50.811873Z"
    }
   },
   "outputs": [
    {
     "data": {
      "text/html": [
       "<style>.container { width:98% !important; }</style>"
      ],
      "text/plain": [
       "<IPython.core.display.HTML object>"
      ]
     },
     "execution_count": 3,
     "metadata": {},
     "output_type": "execute_result"
    }
   ],
   "source": [
    "from IPython.core.display import HTML\n",
    "HTML(\"<style>.container { width:98% !important; }</style>\")"
   ]
  },
  {
   "cell_type": "code",
   "execution_count": 4,
   "metadata": {
    "ExecuteTime": {
     "end_time": "2018-06-19T07:51:51.453488Z",
     "start_time": "2018-06-19T07:51:50.952001Z"
    }
   },
   "outputs": [],
   "source": [
    "import cPickle\n",
    "import gzip\n",
    "\n",
    "import numpy as np\n",
    "import pylab\n",
    "from pylab import subplot,subplot2grid,figure,plot,matshow\n",
    "%matplotlib inline\n",
    "\n",
    "from src.utils import *"
   ]
  },
  {
   "cell_type": "markdown",
   "metadata": {},
   "source": [
    "Select whether you want to generate/overwrite the data"
   ]
  },
  {
   "cell_type": "code",
   "execution_count": 5,
   "metadata": {
    "ExecuteTime": {
     "end_time": "2018-06-18T12:24:28.346548Z",
     "start_time": "2018-06-18T12:24:28.342472Z"
    }
   },
   "outputs": [],
   "source": [
    "export_data=False"
   ]
  },
  {
   "cell_type": "code",
   "execution_count": 11,
   "metadata": {
    "ExecuteTime": {
     "end_time": "2018-06-19T07:52:58.780072Z",
     "start_time": "2018-06-19T07:52:58.776137Z"
    }
   },
   "outputs": [],
   "source": [
    "export_data=True"
   ]
  },
  {
   "cell_type": "markdown",
   "metadata": {},
   "source": [
    "# F 0-4"
   ]
  },
  {
   "cell_type": "code",
   "execution_count": 25,
   "metadata": {
    "ExecuteTime": {
     "end_time": "2018-06-19T10:20:19.474305Z",
     "start_time": "2018-06-19T10:20:19.460916Z"
    }
   },
   "outputs": [],
   "source": [
    "def F0(x):\n",
    "    x1,x2,x3,x4 = x\n",
    "    return [(np.sin(x1*np.pi)+np.sin(x2*np.pi*2+np.pi/8)+x2-x3*x4)/3.0]\n",
    "def F1(x):\n",
    "    x1,x2,x3,x4 = x\n",
    "    return [(np.sin(x1*np.pi)+np.sin(x2*np.pi*2+np.pi/8)+x2-x3*x4)/3.0]\n",
    "def F2(x):    \n",
    "    x1,x2,x3,x4 = x\n",
    "    return [(np.sin(x1*np.pi)+x2*np.cos(x1*np.pi*2+np.pi/4)+x3-x4*x4)/3.0]\n",
    "def F3(x):\n",
    "    x1,x2,x3,x4 = x\n",
    "    return [((1+x2)*np.sin(x1*np.pi) + x2*x3*x4)/3.0]\n",
    "def F4(x):\n",
    "    x1,x2,x3,x4 = x\n",
    "    return [(np.sin(x1*np.pi)+np.cos(x2*np.sin(x1*np.pi)*2)+ x2*x3*x4)/2.0]"
   ]
  },
  {
   "cell_type": "code",
   "execution_count": 26,
   "metadata": {
    "ExecuteTime": {
     "end_time": "2018-06-19T10:20:19.680781Z",
     "start_time": "2018-06-19T10:20:19.677707Z"
    }
   },
   "outputs": [],
   "source": [
    "fun = F0\n",
    "name = \"f0\""
   ]
  },
  {
   "cell_type": "code",
   "execution_count": 26,
   "metadata": {
    "ExecuteTime": {
     "end_time": "2018-06-18T12:22:50.525014Z",
     "start_time": "2018-06-18T12:22:50.520663Z"
    }
   },
   "outputs": [],
   "source": [
    "fun = F1\n",
    "name = \"f1\""
   ]
  },
  {
   "cell_type": "code",
   "execution_count": 37,
   "metadata": {
    "ExecuteTime": {
     "end_time": "2018-06-18T12:27:36.826350Z",
     "start_time": "2018-06-18T12:27:36.822314Z"
    }
   },
   "outputs": [],
   "source": [
    "fun = F2\n",
    "name = \"f2\""
   ]
  },
  {
   "cell_type": "code",
   "execution_count": 42,
   "metadata": {
    "ExecuteTime": {
     "end_time": "2018-06-18T12:28:07.679917Z",
     "start_time": "2018-06-18T12:28:07.675503Z"
    }
   },
   "outputs": [],
   "source": [
    "fun = F3\n",
    "name = \"f3\""
   ]
  },
  {
   "cell_type": "code",
   "execution_count": 47,
   "metadata": {
    "ExecuteTime": {
     "end_time": "2018-06-18T12:28:20.455167Z",
     "start_time": "2018-06-18T12:28:20.451139Z"
    }
   },
   "outputs": [],
   "source": [
    "fun = F4\n",
    "name = \"f4\""
   ]
  },
  {
   "cell_type": "code",
   "execution_count": 27,
   "metadata": {
    "ExecuteTime": {
     "end_time": "2018-06-19T10:20:22.260697Z",
     "start_time": "2018-06-19T10:20:21.973160Z"
    }
   },
   "outputs": [
    {
     "name": "stdout",
     "output_type": "stream",
     "text": [
      "min max for training:  [-1.00348226] [ 1.01420701]\n"
     ]
    },
    {
     "data": {
      "text/plain": [
       "[<matplotlib.lines.Line2D at 0x7fface75b690>]"
      ]
     },
     "execution_count": 27,
     "metadata": {},
     "output_type": "execute_result"
    },
    {
     "data": {
      "image/png": "[encoded data removed]",
      "text/plain": [
       "<matplotlib.figure.Figure at 0x7ffad4334e90>"
      ]
     },
     "metadata": {},
     "output_type": "display_data"
    }
   ],
   "source": [
    "inputs=2*np.random.rand(10000,4)-1\n",
    "outputs=np.asarray([fun(x) for x in inputs])\n",
    "print \"min max for training: \", min(outputs), max(outputs)\n",
    "xs=np.arange(-2,2,0.01)\n",
    "inputs=np.asarray([[x,x,x,x] for x in xs])\n",
    "outputs=np.asarray([fun(x) for x in inputs])\n",
    "plot(xs,outputs)"
   ]
  },
  {
   "cell_type": "markdown",
   "metadata": {},
   "source": [
    "### Training and Test Data"
   ]
  },
  {
   "cell_type": "markdown",
   "metadata": {},
   "source": [
    "main training data [-1,1]"
   ]
  },
  {
   "cell_type": "code",
   "execution_count": 28,
   "metadata": {
    "ExecuteTime": {
     "end_time": "2018-06-19T10:20:25.058834Z",
     "start_time": "2018-06-19T10:20:24.189117Z"
    }
   },
   "outputs": [
    {
     "name": "stdout",
     "output_type": "stream",
     "text": [
      "[-0.99573596] [ 1.05433254]\n"
     ]
    }
   ],
   "source": [
    "n_in=4\n",
    "n_out=1\n",
    "n_num=10000;\n",
    "noise=0.01\n",
    "inputs=1*(2*np.random.rand(n_num,n_in)-1)\n",
    "outputs=addNoise(np.asarray([fun(x) for x in inputs]),noise)\n",
    "print min(outputs), max(outputs)\n",
    "datfull = splitDataSet(inputs,outputs)\n",
    "if export_data:\n",
    "    cPickle.dump(datfull, gzip.open(\"data/\" + name + \"-n-10k-1.dat.gz\",\"wb\"))"
   ]
  },
  {
   "cell_type": "markdown",
   "metadata": {},
   "source": [
    "interpolation and extrapolation test data"
   ]
  },
  {
   "cell_type": "code",
   "execution_count": 29,
   "metadata": {
    "ExecuteTime": {
     "end_time": "2018-06-19T10:20:26.649454Z",
     "start_time": "2018-06-19T10:20:25.629780Z"
    }
   },
   "outputs": [
    {
     "name": "stdout",
     "output_type": "stream",
     "text": [
      "[-0.96749767] [ 1.01764151]\n",
      "[-2.29945704] [ 2.26266012]\n"
     ]
    }
   ],
   "source": [
    "n_num=5000;\n",
    "inputs=1*(2*np.random.rand(n_num,n_in)-1)\n",
    "outputs=addNoise(np.asarray([fun(x) for x in inputs]),noise)\n",
    "dat=((inputs,outputs),())\n",
    "if export_data:\n",
    "    cPickle.dump(dat, gzip.open(\"data/\" + name + \"-n-5k-1-test.dat.gz\",\"wb\"))\n",
    "print min(outputs), max(outputs)\n",
    "    \n",
    "# we generate more data and select then \"num\" from the outside\n",
    "inputs = 2*(2*np.random.rand(4*n_num,n_in)-1)\n",
    "outputs= addNoise(np.asarray([fun(x) for x in inputs]),noise)\n",
    "(inside,outside) = cutDataSet(inputs,outputs,1.0)\n",
    "dat_extra = ((outside[0][:n_num],outside[1][:n_num]),())\n",
    "assert(len(dat_extra[0][1])==n_num)\n",
    "if export_data:\n",
    "    cPickle.dump(dat_extra, gzip.open(\"data/\" + name + \"-n-5k-1-2-test.dat.gz\",\"wb\"))\n",
    "print min(outputs), max(outputs)"
   ]
  },
  {
   "cell_type": "markdown",
   "metadata": {},
   "source": [
    "extrapolation - validation"
   ]
  },
  {
   "cell_type": "code",
   "execution_count": 51,
   "metadata": {
    "ExecuteTime": {
     "end_time": "2018-06-18T12:28:23.265262Z",
     "start_time": "2018-06-18T12:28:23.231037Z"
    }
   },
   "outputs": [
    {
     "name": "stdout",
     "output_type": "stream",
     "text": [
      "[-4.64322261] [ 4.05898611]\n"
     ]
    }
   ],
   "source": [
    "dat_extra_val = ((outside[0][n_num:n_num+50],outside[1][n_num:n_num+50]),())\n",
    "assert(len(dat_extra_val[0][1])==50)\n",
    "if export_data:\n",
    "    cPickle.dump(dat_extra_val, gzip.open(\"data/\" + name + \"-n-50-1-2-extrapol-validation.dat.gz\",\"wb\"))\n",
    "print min(outputs), max(outputs)"
   ]
  },
  {
   "cell_type": "markdown",
   "metadata": {},
   "source": [
    "# Cart-pole"
   ]
  },
  {
   "cell_type": "code",
   "execution_count": 52,
   "metadata": {
    "ExecuteTime": {
     "end_time": "2018-06-18T12:30:13.621634Z",
     "start_time": "2018-06-18T12:30:13.599575Z"
    }
   },
   "outputs": [
    {
     "data": {
      "text/plain": [
       "[2, 2, 1.4900000000000004, -10.01]"
      ]
     },
     "execution_count": 52,
     "metadata": {},
     "output_type": "execute_result"
    }
   ],
   "source": [
    "def CartPendulum(inp):\n",
    "    x,theta,v,omega = inp # position x, angle theta and vel. v and angle vel. omega\n",
    "    m=1\n",
    "    M=1\n",
    "    R=1\n",
    "    g=9.81\n",
    "    b=0.1\n",
    "    d=0.01\n",
    "    k=1\n",
    "    sin=np.sin\n",
    "    cos=np.cos\n",
    "    sqr=np.square\n",
    "    return [v, \n",
    "            omega, \n",
    "            (m*R*sqr(omega)*sin(theta) + m*g*sin(theta)*cos(theta) - k*x - d*v + b/R*omega*cos(theta))/(M + m*sqr(sin(theta))),\n",
    "            (-m*R*sqr(omega)*sin(theta)*cos(theta) - (m+M)*g*sin(theta) + k*x*cos(theta) + d*v*cos(theta) - (1 + M/m)*b/R*omega) \n",
    "            /(R*(M + m*sqr(sin(theta))))\n",
    "           ]\n",
    "def cp_inp(o):\n",
    "    return o*[1,np.pi/2,1,1]\n",
    "def cp_normalize(o):\n",
    "    return o/[1,1,5,10]\n",
    "CartPendulum([1,np.pi/2,2,2])"
   ]
  },
  {
   "cell_type": "markdown",
   "metadata": {},
   "source": [
    "http://www.myphysicslab.com/pendulum_cart.html"
   ]
  },
  {
   "cell_type": "markdown",
   "metadata": {},
   "source": [
    "$\\large x' = v$\n",
    "\n",
    "$\\large θ' = ω$\n",
    "\n",
    "$\\large v' =  \t\\frac{m R ω^2 sin θ + m g sin θ cos θ − k x − d v + b/R ω cos θ)}{M + m sin^2 θ}$\n",
    "\n",
    "$\\large ω' =  \t\\frac{−m R ω^2 sin θ cos θ − (m+M)g sin θ + k x cos θ + d v cos θ − (1 + M/m)b/R ω)}{R (M + m sin^{2}θ)}$\n",
    "\n",
    "$R = length of rod (constant)$\n",
    "\n",
    "$M = mass of cart$\n",
    "\n",
    "$m = mass of pendulum$\n",
    "\n",
    "$g = gravitational constant$\n",
    "\n",
    "$d = cart friction constant$\n",
    "\n",
    "$b = pendulum friction constant$\n",
    "\n",
    "$k = spring stiffness$"
   ]
  },
  {
   "cell_type": "markdown",
   "metadata": {},
   "source": [
    "$ \\Large \\frac{-0.01x_3 - x_1 + x_4^{2}sin(x_2) + 0.1x_4cos(x_2) + 9.81sin(x_2)cos(x_2))}{sin^{2}(x_2)+1}$\n",
    "\n",
    "\n",
    "$\\Large \\frac{0.01x_3cos(x_2) - 0.2x_4 - 19.62sin(x_2) + x_1cos(x_2) - x_4^{2}sin(x_2)cos(x_2)}{sin^{2}(x_2)+1}$"
   ]
  },
  {
   "cell_type": "markdown",
   "metadata": {},
   "source": [
    "### Inspection"
   ]
  },
  {
   "cell_type": "code",
   "execution_count": 53,
   "metadata": {
    "ExecuteTime": {
     "end_time": "2018-06-18T12:30:20.538004Z",
     "start_time": "2018-06-18T12:30:20.307604Z"
    }
   },
   "outputs": [
    {
     "name": "stdout",
     "output_type": "stream",
     "text": [
      "[ -0.99967584  -0.99983637  -4.58161821 -10.29409256] [  0.99989218   0.99981174   4.58309245  10.30641089]\n"
     ]
    }
   ],
   "source": [
    "inputs=2*np.random.rand(10000,4)-1\n",
    "outputs=np.asarray([CartPendulum(cp_inp(x)) for x in inputs])\n",
    "print np.min(outputs,axis=0), np.max(outputs,axis=0)"
   ]
  },
  {
   "cell_type": "code",
   "execution_count": 54,
   "metadata": {
    "ExecuteTime": {
     "end_time": "2018-06-18T12:30:23.669020Z",
     "start_time": "2018-06-18T12:30:23.518199Z"
    }
   },
   "outputs": [
    {
     "data": {
      "text/plain": [
       "[<matplotlib.lines.Line2D at 0x7fdac140f710>,\n",
       " <matplotlib.lines.Line2D at 0x7fdac140f850>]"
      ]
     },
     "execution_count": 54,
     "metadata": {},
     "output_type": "execute_result"
    },
    {
     "data": {
      "image/png": "[encoded data removed]",
      "text/plain": [
       "<matplotlib.figure.Figure at 0x7fdac16459d0>"
      ]
     },
     "metadata": {},
     "output_type": "display_data"
    }
   ],
   "source": [
    "xs=np.arange(-4,4,0.01)\n",
    "inputs=np.asarray([[1,x,0,-x] for x in xs])\n",
    "outputs=cp_normalize(np.asarray([CartPendulum(cp_inp(x)) for x in inputs]))\n",
    "plot(xs[:],outputs[:,[2,3]])"
   ]
  },
  {
   "cell_type": "code",
   "execution_count": 55,
   "metadata": {
    "ExecuteTime": {
     "end_time": "2018-06-18T12:30:27.743865Z",
     "start_time": "2018-06-18T12:30:27.733443Z"
    }
   },
   "outputs": [],
   "source": [
    "from mpl_toolkits.mplot3d import Axes3D\n",
    "from matplotlib import cm"
   ]
  },
  {
   "cell_type": "code",
   "execution_count": 56,
   "metadata": {
    "ExecuteTime": {
     "end_time": "2018-06-18T12:30:28.304934Z",
     "start_time": "2018-06-18T12:30:27.916509Z"
    }
   },
   "outputs": [
    {
     "name": "stdout",
     "output_type": "stream",
     "text": [
      "((120, 120), (120, 120), (120, 120, 4))\n"
     ]
    }
   ],
   "source": [
    "xs=np.arange(-3,3,0.05)\n",
    "ys=np.arange(-3,3,0.05)\n",
    "(x,y) = np.meshgrid(xs,ys,sparse=False, indexing='ij')\n",
    "z = np.asarray([[ cp_normalize(np.asarray(CartPendulum(cp_inp(np.asarray([1.0,x[i,j],0.0,y[i,j]]))))) for i in range(len(xs))] for j in range(len(ys))])\n",
    "print(x.shape,y.shape,z.shape)"
   ]
  },
  {
   "cell_type": "code",
   "execution_count": 11,
   "metadata": {},
   "outputs": [],
   "source": [
    "%matplotlib qt"
   ]
  },
  {
   "cell_type": "code",
   "execution_count": 57,
   "metadata": {
    "ExecuteTime": {
     "end_time": "2018-06-18T12:30:34.647553Z",
     "start_time": "2018-06-18T12:30:33.253068Z"
    }
   },
   "outputs": [
    {
     "data": {
      "text/plain": [
       "<mpl_toolkits.mplot3d.art3d.Poly3DCollection at 0x7fdac14b2650>"
      ]
     },
     "execution_count": 57,
     "metadata": {},
     "output_type": "execute_result"
    },
    {
     "data": {
      "image/png": "[encoded data removed]",
      "text/plain": [
       "<matplotlib.figure.Figure at 0x7fdac14b2090>"
      ]
     },
     "metadata": {},
     "output_type": "display_data"
    }
   ],
   "source": [
    "fig = pylab.figure()\n",
    "ax = fig.gca(projection='3d')\n",
    "ax.plot_surface(x,y,z[:,:,2], rstride=1, cstride=1, cmap=cm.coolwarm,\n",
    "                       linewidth=0, antialiased=False)"
   ]
  },
  {
   "cell_type": "code",
   "execution_count": 13,
   "metadata": {},
   "outputs": [
    {
     "data": {
      "text/plain": [
       "<mpl_toolkits.mplot3d.art3d.Poly3DCollection at 0x7f56e71db8d0>"
      ]
     },
     "execution_count": 13,
     "metadata": {},
     "output_type": "execute_result"
    },
    {
     "data": {
      "image/png": "[encoded data removed]",
      "text/plain": [
       "<Figure size 432x288 with 1 Axes>"
      ]
     },
     "metadata": {},
     "output_type": "display_data"
    }
   ],
   "source": [
    "fig = pylab.figure()\n",
    "ax = fig.gca(projection='3d')\n",
    "ax.plot_surface(x,y,z[:,:,3], rstride=1, cstride=1, cmap=cm.coolwarm,\n",
    "                       linewidth=0, antialiased=False)"
   ]
  },
  {
   "cell_type": "code",
   "execution_count": 14,
   "metadata": {},
   "outputs": [],
   "source": [
    "%matplotlib inline"
   ]
  },
  {
   "cell_type": "markdown",
   "metadata": {},
   "source": [
    "### Create Dataset files"
   ]
  },
  {
   "cell_type": "code",
   "execution_count": 58,
   "metadata": {
    "ExecuteTime": {
     "end_time": "2018-06-18T12:31:25.822990Z",
     "start_time": "2018-06-18T12:31:23.607663Z"
    }
   },
   "outputs": [
    {
     "name": "stdout",
     "output_type": "stream",
     "text": [
      "-1.49988656883 1.49998497791\n"
     ]
    }
   ],
   "source": [
    "n_in=4\n",
    "n_out=1\n",
    "n_num=20000;\n",
    "noise=0.1;\n",
    "inputs=1*(2*np.random.rand(n_num,n_in)-1)\n",
    "outputs=addNoise(cp_normalize(np.asarray([CartPendulum(cp_inp(x)) for x in inputs])),noise)\n",
    "print np.min(outputs), np.max(outputs)\n",
    "datfull = splitDataSet(inputs,outputs)\n",
    "if export_data:\n",
    "    cPickle.dump(datfull, gzip.open(\"data/cp-n-20k-1.dat.gz\",\"wb\"))"
   ]
  },
  {
   "cell_type": "code",
   "execution_count": 16,
   "metadata": {},
   "outputs": [
    {
     "name": "stdout",
     "output_type": "stream",
     "text": [
      "-2.999717921109589 2.999979160380284\n"
     ]
    }
   ],
   "source": [
    "n_num=10000;\n",
    "inputs=1*(2*np.random.rand(n_num,n_in)-1)\n",
    "outputs=addNoise(cp_normalize(np.asarray([CartPendulum(cp_inp(x)) for x in inputs])),noise)\n",
    "dat=((inputs,outputs),())\n",
    "if export_data:\n",
    "    cPickle.dump(dat, gzip.open(\"data/cp-n-10k-1-test.dat.gz\",\"wb\"))\n",
    "    \n",
    "inputs = 2*(2*np.random.rand(4*n_num,n_in)-1)\n",
    "outputs=addNoise(cp_normalize(np.asarray([CartPendulum(cp_inp(x)) for x in inputs])),noise)\n",
    "\n",
    "(inside,outside) = cutDataSet(inputs,outputs,1.0)\n",
    "dat = ((outside[0][:n_num],outside[1][:n_num]),())\n",
    "assert(len(dat[0][1])==n_num)\n",
    "if export_data:\n",
    "    cPickle.dump(dat, gzip.open(\"data/cp-n-10k-1-2-test.dat.gz\",\"wb\"))\n",
    "print np.min(outputs), np.max(outputs)"
   ]
  },
  {
   "cell_type": "markdown",
   "metadata": {},
   "source": [
    "Extrapolation - Validation"
   ]
  },
  {
   "cell_type": "code",
   "execution_count": 23,
   "metadata": {
    "ExecuteTime": {
     "end_time": "2018-06-19T07:56:50.695244Z",
     "start_time": "2018-06-19T07:56:50.664722Z"
    }
   },
   "outputs": [
    {
     "name": "stdout",
     "output_type": "stream",
     "text": [
      "[-1.01402878] [ 1.01475109]\n"
     ]
    }
   ],
   "source": [
    "dat_extra_val = ((outside[0][n_num:n_num+50],outside[1][n_num:n_num+50]),())\n",
    "assert(len(dat_extra_val[0][1])==50)\n",
    "if export_data:\n",
    "    cPickle.dump(dat_extra_val, gzip.open(\"data/cp-n-50-1-2-extrapol-validation.dat.gz\",\"wb\"))\n",
    "print min(outputs), max(outputs)"
   ]
  },
  {
   "cell_type": "markdown",
   "metadata": {},
   "source": [
    "# DIV"
   ]
  },
  {
   "cell_type": "code",
   "execution_count": 17,
   "metadata": {
    "ExecuteTime": {
     "end_time": "2018-06-19T07:54:16.592979Z",
     "start_time": "2018-06-19T07:54:16.587027Z"
    }
   },
   "outputs": [],
   "source": [
    "def Fdivision(x):\n",
    "    x1,x2 = x\n",
    "    return [np.sin(3.14*x1)/(x2*x2 + 1)]\n",
    "name = \"div\""
   ]
  },
  {
   "cell_type": "code",
   "execution_count": 18,
   "metadata": {
    "ExecuteTime": {
     "end_time": "2018-06-19T07:54:16.906024Z",
     "start_time": "2018-06-19T07:54:16.735405Z"
    }
   },
   "outputs": [
    {
     "name": "stdout",
     "output_type": "stream",
     "text": [
      "min max for training:  [-0.99945552] [ 0.99968093]\n"
     ]
    },
    {
     "data": {
      "text/plain": [
       "[<matplotlib.lines.Line2D at 0x7fface8711d0>]"
      ]
     },
     "execution_count": 18,
     "metadata": {},
     "output_type": "execute_result"
    },
    {
     "data": {
      "image/png": "[encoded data removed]",
      "text/plain": [
       "<matplotlib.figure.Figure at 0x7ffadb1a1e50>"
      ]
     },
     "metadata": {},
     "output_type": "display_data"
    }
   ],
   "source": [
    "inputs=2*np.random.rand(10000,2)-1\n",
    "outputs=np.asarray([Fdivision(x) for x in inputs])\n",
    "print \"min max for training: \", min(outputs), max(outputs)\n",
    "xs=np.arange(-2,2,0.01)\n",
    "inputs=np.asarray([[x,x] for x in xs])\n",
    "outputs=np.asarray([Fdivision(x) for x in inputs])\n",
    "plot(xs,outputs)"
   ]
  },
  {
   "cell_type": "code",
   "execution_count": 19,
   "metadata": {
    "ExecuteTime": {
     "end_time": "2018-06-19T07:54:17.288164Z",
     "start_time": "2018-06-19T07:54:16.907382Z"
    }
   },
   "outputs": [
    {
     "name": "stdout",
     "output_type": "stream",
     "text": [
      "[-1.01701846] [ 1.01246301]\n"
     ]
    }
   ],
   "source": [
    "n_in=2\n",
    "n_out=1\n",
    "n_num=10000;\n",
    "noise=0.01\n",
    "inputs=1*(2*np.random.rand(n_num,n_in) - 1)\n",
    "outputs=addNoise(np.asarray([Fdivision(x) for x in inputs]), noise)\n",
    "print min(outputs), max(outputs)\n",
    "datfull = splitDataSet(inputs,outputs)\n",
    "if export_data:\n",
    "    cPickle.dump(datfull, gzip.open(\"data/\" + name + \"-n-10k-1.dat.gz\",\"wb\"))"
   ]
  },
  {
   "cell_type": "code",
   "execution_count": 20,
   "metadata": {
    "ExecuteTime": {
     "end_time": "2018-06-19T07:54:17.752245Z",
     "start_time": "2018-06-19T07:54:17.289803Z"
    }
   },
   "outputs": [
    {
     "name": "stdout",
     "output_type": "stream",
     "text": [
      "[-1.0135008] [ 1.01840281]\n",
      "[-1.01402878] [ 1.01475109]\n"
     ]
    }
   ],
   "source": [
    "n_num=5000;\n",
    "inputs=1*(2*np.random.rand(n_num,n_in)-1)\n",
    "outputs=addNoise(np.asarray([Fdivision(x) for x in inputs]),noise)\n",
    "dat=((inputs,outputs),())\n",
    "if export_data:\n",
    "    cPickle.dump(dat, gzip.open(\"data/\" + name + \"-n-5k-1-test.dat.gz\",\"wb\"))\n",
    "print min(outputs), max(outputs)\n",
    "    \n",
    "# we generate more data and select then \"num\" from the outside\n",
    "inputs = 2*(2*np.random.rand(4*n_num,n_in)-1)\n",
    "outputs= addNoise(np.asarray([Fdivision(x) for x in inputs]),noise)\n",
    "(inside,outside) = cutDataSet(inputs,outputs,1.0)\n",
    "dat_extra = ((outside[0][:n_num],outside[1][:n_num]),())\n",
    "assert(len(dat_extra[0][1])==n_num)\n",
    "if export_data:\n",
    "    cPickle.dump(dat_extra, gzip.open(\"data/\" + name + \"-n-5k-1-2-test.dat.gz\",\"wb\"))\n",
    "print min(outputs), max(outputs)"
   ]
  }
 ],
 "metadata": {
  "kernelspec": {
   "display_name": "Python 2",
   "language": "python",
   "name": "python2"
  },
  "language_info": {
   "codemirror_mode": {
    "name": "ipython",
    "version": 2
   },
   "file_extension": ".py",
   "mimetype": "text/x-python",
   "name": "python",
   "nbconvert_exporter": "python",
   "pygments_lexer": "ipython2",
   "version": "2.7.14"
  }
 },
 "nbformat": 4,
 "nbformat_minor": 2
}
