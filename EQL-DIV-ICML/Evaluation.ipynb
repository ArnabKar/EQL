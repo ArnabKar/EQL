{
 "cells": [
  {
   "cell_type": "code",
   "execution_count": 1,
   "metadata": {
    "ExecuteTime": {
     "end_time": "2018-06-19T22:43:06.092961",
     "start_time": "2018-06-19T22:43:06.070893"
    },
    "collapsed": false
   },
   "outputs": [
    {
     "data": {
      "text/html": [
       "<style>.container { width:98% !important; }</style>"
      ],
      "text/plain": [
       "<IPython.core.display.HTML object>"
      ]
     },
     "execution_count": 1,
     "metadata": {},
     "output_type": "execute_result"
    }
   ],
   "source": [
    "from IPython.core.display import HTML\n",
    "HTML(\"<style>.container { width:98% !important; }</style>\")"
   ]
  },
  {
   "cell_type": "code",
   "execution_count": 2,
   "metadata": {
    "ExecuteTime": {
     "end_time": "2018-06-19T22:43:07.322444",
     "start_time": "2018-06-19T22:43:06.680544"
    },
    "collapsed": false
   },
   "outputs": [
    {
     "name": "stderr",
     "output_type": "stream",
     "text": [
      "/usr/local/lib/python2.7/dist-packages/theano/tensor/signal/downsample.py:6: UserWarning: downsample module has been moved to the theano.tensor.signal.pool module.\n",
      "  \"downsample module has been moved to the theano.tensor.signal.pool module.\")\n"
     ]
    }
   ],
   "source": [
    "colors=[(0.368417, 0.506779, 0.709798), (0.880722, 0.611041, 0.142051), (0.560181, 0.691569, 0.194885), (0.922526, 0.385626, 0.209179),(0.2,0.2,0.2),(155.0/255,69.0/255,213.0/255)]\n",
    "def darker(color):\n",
    "    return (color[0]*0.5,color[1]*0.5,color[2]*0.5)\n",
    "#!/usr/bin/env python\n",
    "import pandas as pd\n",
    "from theano import *\n",
    "import theano.tensor as T\n",
    "from theano.ifelse import ifelse\n",
    "from theano import pp\n",
    "import numpy as np\n",
    "import numpy\n",
    "import copy\n",
    "import cPickle\n",
    "import gzip\n",
    "import collections\n",
    "\n",
    "import src.mlfg_final as mlfg_div\n",
    "from src.utils import *\n",
    "import src.model_selection_val_sparsity as model_sel\n",
    "import src.noise as noise\n",
    "from src.graph_div import *\n",
    "\n",
    "import pylab\n",
    "from pylab import subplot,subplot2grid,figure,plot,matshow\n",
    "import matplotlib.pyplot as plt\n",
    "%matplotlib inline"
   ]
  },
  {
   "cell_type": "code",
   "execution_count": 3,
   "metadata": {
    "ExecuteTime": {
     "end_time": "2018-06-19T22:43:07.325651",
     "start_time": "2018-06-19T22:43:07.323448"
    },
    "collapsed": true
   },
   "outputs": [],
   "source": [
    "def getRuns(header,data,key,typeconv, value):\n",
    "    return [d for d in data if typeconv(d[getIdx(header,key)])==value]"
   ]
  },
  {
   "cell_type": "markdown",
   "metadata": {},
   "source": [
    "# F0"
   ]
  },
  {
   "cell_type": "markdown",
   "metadata": {},
   "source": [
    "This one is not in the paper"
   ]
  },
  {
   "cell_type": "code",
   "execution_count": 6,
   "metadata": {
    "ExecuteTime": {
     "end_time": "2018-06-19T10:21:53.487044Z",
     "start_time": "2018-06-19T10:21:53.483011Z"
    },
    "collapsed": true
   },
   "outputs": [],
   "source": [
    "def F0(x):\n",
    "    x1,x2,x3,x4 = x\n",
    "    return [(np.sin(x1*np.pi)+np.sin(x2*np.pi*2+np.pi/8)+x2-x3*x4)/3.0]"
   ]
  },
  {
   "cell_type": "code",
   "execution_count": 7,
   "metadata": {
    "ExecuteTime": {
     "end_time": "2018-06-19T10:21:54.557141Z",
     "start_time": "2018-06-19T10:21:54.532053Z"
    },
    "collapsed": false
   },
   "outputs": [
    {
     "name": "stdout",
     "output_type": "stream",
     "text": [
      "['k', 'iter', 'layers', 'epochs', 'nodes', 'lr', 'L1', 'L2', 'shortcut', 'batchsize', 'regstart', 'regend', 'id', 'dataset', 'gradient', 'numactive', 'bestnumactive', 'bestepoch', 'runtime', 'extrapol1', 'extrapol2', 'extrapol3', 'extrapolbest1', 'extrapolbest2', 'extrapolbest3', 'valerror', 'valerrorbest', 'testerror']\n",
      "25\n"
     ]
    }
   ],
   "source": [
    "#f = gzip.open(\"data/fg3-12k.dat.gz\", 'rb')\n",
    "f = gzip.open(\"data/f0-n-10k-1.dat.gz\", 'rb')\n",
    "\n",
    "data = cPickle.load(f)\n",
    "base=\"result_f0-EQLDIV/\"\n",
    "\n",
    "(runs,comments)=readCSVTable(base + \"all.dat\")\n",
    "header=comments[0][0].split(' ')\n",
    "assert(header[0]==\"#C\")\n",
    "header = header[1:]\n",
    "print header\n",
    "print len(runs)"
   ]
  },
  {
   "cell_type": "code",
   "execution_count": 8,
   "metadata": {
    "ExecuteTime": {
     "end_time": "2018-06-19T10:22:01.225164Z",
     "start_time": "2018-06-19T10:22:01.219203Z"
    },
    "collapsed": false
   },
   "outputs": [
    {
     "name": "stdout",
     "output_type": "stream",
     "text": [
      "lines:  25\n",
      "(' best extrapolating model: (only for information):', (1, 9.94299902638e-05))\n",
      "selected instance model: score: 0.00318949593359 id: 1 #active: 4.0\t val-error: 0.000102293056778\t extra-pol2-error: 9.94299902638e-05\n"
     ]
    }
   ],
   "source": [
    "best_instance = model_sel.select_instance(base + \"all.dat\")"
   ]
  },
  {
   "cell_type": "code",
   "execution_count": 9,
   "metadata": {
    "ExecuteTime": {
     "end_time": "2018-06-19T10:22:01.999770Z",
     "start_time": "2018-06-19T10:22:01.995061Z"
    },
    "collapsed": false
   },
   "outputs": [
    {
     "data": {
      "text/plain": [
       "{'extrapol2': 9.94299902638e-05,\n",
       " 'id': 1,\n",
       " 'num_active': 4.0,\n",
       " 'score': 0.0031894959335853797,\n",
       " 'valerror': 0.000102293056778}"
      ]
     },
     "execution_count": 9,
     "metadata": {},
     "output_type": "execute_result"
    }
   ],
   "source": [
    "best_instance"
   ]
  },
  {
   "cell_type": "code",
   "execution_count": 10,
   "metadata": {
    "ExecuteTime": {
     "end_time": "2018-06-19T10:22:03.352945Z",
     "start_time": "2018-06-19T10:22:03.339076Z"
    },
    "collapsed": false
   },
   "outputs": [
    {
     "data": {
      "text/plain": [
       "'99999999999 0 3 4000 10 0.01 0.000316227766017 0.0 False 20 500 3500 1 data/fg1a-n-10k-1.dat.gz sgd 4 4 3800 18.5196628531 9.99167471211e-05 9.94299902638e-05 9.80261459605e-05 9.93677612041e-05 0.000235331374806 0.000968852830731 0.000102293056778 0.000100712484516 inf'"
      ]
     },
     "execution_count": 10,
     "metadata": {},
     "output_type": "execute_result"
    }
   ],
   "source": [
    "runid = best_instance['id']\n",
    "state = cPickle.load(open(base + str(runid) + \".last_state\",\"rb\"))\n",
    "runparams=getRuns(header,runs,\"id\",int, runid)[0]\n",
    "\" \".join(runparams)"
   ]
  },
  {
   "cell_type": "code",
   "execution_count": 11,
   "metadata": {
    "ExecuteTime": {
     "end_time": "2018-06-19T10:22:13.732607Z",
     "start_time": "2018-06-19T10:22:06.916394Z"
    },
    "collapsed": false
   },
   "outputs": [
    {
     "name": "stdout",
     "output_type": "stream",
     "text": [
      "Max input value is:  0.999978213817\n",
      "... building the model\n",
      "Gradient: sgd\n",
      "... training\n",
      "Optimization complete. Best validation score of inf obtained at epoch 1, with test performance 0.000000 \n"
     ]
    },
    {
     "name": "stderr",
     "output_type": "stream",
     "text": [
      "The code for file mlfg_final.pyc ran for 0.00m\n"
     ]
    }
   ],
   "source": [
    "reload(mlfg_div)\n",
    "#reload(mlfg_redexp)\n",
    "trained = mlfg_div.test_mlfg(datasets=data,n_epochs=0,verbose=False,learning_rate=0.005, basefuncs1=[0,1,2],\n",
    "                        L1_reg=float(runparams[getIdx(header,\"L1\")]),L2_reg=float(runparams[getIdx(header,\"L2\")]),reg_start=0,\n",
    "                        n_layer=int(runparams[getIdx(header,\"layers\")]), n_per_base=int(runparams[getIdx(header,\"nodes\")]),\n",
    "                        classifier=None, gradient=runparams[getIdx(header,\"gradient\")],\n",
    "                        init_state=state)"
   ]
  },
  {
   "cell_type": "code",
   "execution_count": 13,
   "metadata": {
    "ExecuteTime": {
     "end_time": "2018-06-19T10:22:37.638028Z",
     "start_time": "2018-06-19T10:22:37.396561Z"
    },
    "collapsed": false
   },
   "outputs": [
    {
     "name": "stdout",
     "output_type": "stream",
     "text": [
      "NumActive: 4\n",
      "1.98206528607e-06\n"
     ]
    },
    {
     "data": {
      "image/png": "[encoded data removed]",
      "text/plain": [
       "<matplotlib.figure.Figure at 0x7f6616232810>"
      ]
     },
     "metadata": {},
     "output_type": "display_data"
    }
   ],
   "source": [
    "classifier_c = trained[\"classifier\"]\n",
    "classifier_c.set_state(state)\n",
    "print \"NumActive:\",classifier_c.get_num_active_units()\n",
    "xs = np.arange(-3,3,0.01)\n",
    "inputs=np.asarray([[x,x,x,0.1*x] for x in xs])\n",
    "outputs=np.asarray([F0(x) for x in inputs])\n",
    "cout=classifier_c.evaluate(inputs)\n",
    "\n",
    "print np.mean((cout[:,0]-outputs[:,0])**2)\n",
    "plot(xs,cout[:,0],c='b')\n",
    "plot(xs,outputs[:,0],c='r')\n",
    "pylab.axvspan(-1,1, facecolor='0.8', alpha=0.5)\n",
    "for extra in [1.5,2.0]:\n",
    "    pylab.axvline(-extra*1,c='0.8')\n",
    "    pylab.axvline(extra*1,c='0.8')\n",
    "#inputs.shape"
   ]
  },
  {
   "cell_type": "code",
   "execution_count": 14,
   "metadata": {
    "ExecuteTime": {
     "end_time": "2018-06-19T10:22:42.091347Z",
     "start_time": "2018-06-19T10:22:41.964468Z"
    },
    "collapsed": false,
    "scrolled": true
   },
   "outputs": [
    {
     "data": {
      "image/svg+xml": [
       "<?xml version=\"1.0\" encoding=\"UTF-8\" standalone=\"no\"?>\n",
       "<!DOCTYPE svg PUBLIC \"-//W3C//DTD SVG 1.1//EN\"\n",
       " \"http://www.w3.org/Graphics/SVG/1.1/DTD/svg11.dtd\">\n",
       "<!-- Generated by graphviz version 2.38.0 (20140413.2041)\n",
       " -->\n",
       "<!-- Title: %3 Pages: 1 -->\n",
       "<svg width=\"345pt\" height=\"476pt\"\n",
       " viewBox=\"0.00 0.00 344.99 476.48\" xmlns=\"http://www.w3.org/2000/svg\" xmlns:xlink=\"http://www.w3.org/1999/xlink\">\n",
       "<g id=\"graph0\" class=\"graph\" transform=\"scale(1 1) rotate(0) translate(4 472.48)\">\n",
       "<title>%3</title>\n",
       "<polygon fill=\"white\" stroke=\"none\" points=\"-4,4 -4,-472.48 340.991,-472.48 340.991,4 -4,4\"/>\n",
       "<!-- sin&#45;0&#45;19 -->\n",
       "<g id=\"node1\" class=\"node\"><title>sin&#45;0&#45;19</title>\n",
       "<ellipse fill=\"none\" stroke=\"black\" cx=\"106.991\" cy=\"-354.61\" rx=\"31.6406\" ry=\"26.7407\"/>\n",
       "<text text-anchor=\"middle\" x=\"106.991\" y=\"-358.41\" font-family=\"Times,serif\" font-size=\"14.00\">&#45;0.59</text>\n",
       "<text text-anchor=\"middle\" x=\"106.991\" y=\"-343.41\" font-family=\"Times,serif\" font-size=\"14.00\">sin</text>\n",
       "</g>\n",
       "<!-- mult&#45;1&#45;5 -->\n",
       "<g id=\"node12\" class=\"node\"><title>mult&#45;1&#45;5</title>\n",
       "<polygon fill=\"none\" stroke=\"black\" points=\"83.9914,-249.87 83.9914,-270.87 107.991,-270.87 107.991,-249.87 83.9914,-249.87\"/>\n",
       "<text text-anchor=\"start\" x=\"86.9914\" y=\"-256.67\" font-family=\"Times,serif\" font-size=\"14.00\">0.0</text>\n",
       "<polygon fill=\"none\" stroke=\"black\" points=\"107.991,-249.87 107.991,-270.87 131.991,-270.87 131.991,-249.87 107.991,-249.87\"/>\n",
       "<text text-anchor=\"start\" x=\"110.991\" y=\"-256.67\" font-family=\"Times,serif\" font-size=\"14.00\">0.0</text>\n",
       "<polygon fill=\"none\" stroke=\"black\" points=\"83.9914,-228.87 83.9914,-249.87 131.991,-249.87 131.991,-228.87 83.9914,-228.87\"/>\n",
       "<text text-anchor=\"start\" x=\"94.9914\" y=\"-235.67\" font-family=\"Times,serif\" font-size=\"14.00\">mult</text>\n",
       "</g>\n",
       "<!-- sin&#45;0&#45;19&#45;&gt;mult&#45;1&#45;5 -->\n",
       "<g id=\"edge8\" class=\"edge\"><title>sin&#45;0&#45;19&#45;&gt;mult&#45;1&#45;5:1</title>\n",
       "<path fill=\"none\" stroke=\"black\" d=\"M93.417,-330.178C90.3623,-323.758 87.5616,-316.657 85.9914,-309.74 84.5155,-303.239 84.6271,-301.266 85.9914,-294.74 87.3394,-288.293 90.612,-285.35 93.0486,-281.701\"/>\n",
       "<polygon fill=\"black\" stroke=\"black\" points=\"96.4766,-282.454 95.9914,-271.87 89.7706,-280.446 96.4766,-282.454\"/>\n",
       "<text text-anchor=\"middle\" x=\"99.4914\" y=\"-298.54\" font-family=\"Times,serif\" font-size=\"14.00\">0.68</text>\n",
       "</g>\n",
       "<!-- sin&#45;0&#45;19&#45;&gt;mult&#45;1&#45;5 -->\n",
       "<g id=\"edge9\" class=\"edge\"><title>sin&#45;0&#45;19&#45;&gt;mult&#45;1&#45;5:2</title>\n",
       "<path fill=\"none\" stroke=\"black\" d=\"M113.187,-328.006C115.933,-314.857 118.753,-298.27 119.677,-282.263\"/>\n",
       "<polygon fill=\"black\" stroke=\"black\" points=\"123.188,-281.971 119.991,-271.87 116.191,-281.76 123.188,-281.971\"/>\n",
       "<text text-anchor=\"middle\" x=\"133.491\" y=\"-298.54\" font-family=\"Times,serif\" font-size=\"14.00\">&#45;0.68</text>\n",
       "</g>\n",
       "<!-- cos&#45;1&#45;27 -->\n",
       "<g id=\"node2\" class=\"node\"><title>cos&#45;1&#45;27</title>\n",
       "<ellipse fill=\"none\" stroke=\"black\" cx=\"28.9914\" cy=\"-249.87\" rx=\"28.9828\" ry=\"26.7407\"/>\n",
       "<text text-anchor=\"middle\" x=\"28.9914\" y=\"-253.67\" font-family=\"Times,serif\" font-size=\"14.00\">0.69</text>\n",
       "<text text-anchor=\"middle\" x=\"28.9914\" y=\"-238.67\" font-family=\"Times,serif\" font-size=\"14.00\">cos</text>\n",
       "</g>\n",
       "<!-- mult&#45;2&#45;5 -->\n",
       "<g id=\"node11\" class=\"node\"><title>mult&#45;2&#45;5</title>\n",
       "<polygon fill=\"none\" stroke=\"black\" points=\"58.9914,-147 58.9914,-168 89.9914,-168 89.9914,-147 58.9914,-147\"/>\n",
       "<text text-anchor=\"start\" x=\"61.9914\" y=\"-153.8\" font-family=\"Times,serif\" font-size=\"14.00\">2.25</text>\n",
       "<polygon fill=\"none\" stroke=\"black\" points=\"89.9914,-147 89.9914,-168 124.991,-168 124.991,-147 89.9914,-147\"/>\n",
       "<text text-anchor=\"start\" x=\"92.9914\" y=\"-153.8\" font-family=\"Times,serif\" font-size=\"14.00\">&#45;0.02</text>\n",
       "<polygon fill=\"none\" stroke=\"black\" points=\"58.9914,-126 58.9914,-147 124.991,-147 124.991,-126 58.9914,-126\"/>\n",
       "<text text-anchor=\"start\" x=\"78.9914\" y=\"-132.8\" font-family=\"Times,serif\" font-size=\"14.00\">mult</text>\n",
       "</g>\n",
       "<!-- cos&#45;1&#45;27&#45;&gt;mult&#45;2&#45;5 -->\n",
       "<g id=\"edge12\" class=\"edge\"><title>cos&#45;1&#45;27&#45;&gt;mult&#45;2&#45;5:2</title>\n",
       "<path fill=\"none\" stroke=\"black\" d=\"M43.7734,-226.394C52.0985,-214.733 63.179,-200.724 74.9914,-190 84.444,-181.419 97.8102,-183.491 104.244,-178.313\"/>\n",
       "<polygon fill=\"black\" stroke=\"black\" points=\"107.505,-179.584 107.991,-169 101.011,-176.971 107.505,-179.584\"/>\n",
       "<text text-anchor=\"middle\" x=\"89.4914\" y=\"-193.8\" font-family=\"Times,serif\" font-size=\"14.00\">&#45;0.16</text>\n",
       "</g>\n",
       "<!-- id&#45;0&#45;1 -->\n",
       "<g id=\"node3\" class=\"node\"><title>id&#45;0&#45;1</title>\n",
       "<ellipse fill=\"none\" stroke=\"black\" cx=\"183.991\" cy=\"-354.61\" rx=\"27\" ry=\"26.7407\"/>\n",
       "<text text-anchor=\"middle\" x=\"183.991\" y=\"-358.41\" font-family=\"Times,serif\" font-size=\"14.00\">0.0</text>\n",
       "<text text-anchor=\"middle\" x=\"183.991\" y=\"-343.41\" font-family=\"Times,serif\" font-size=\"14.00\">id</text>\n",
       "</g>\n",
       "<!-- id&#45;1&#45;8 -->\n",
       "<g id=\"node4\" class=\"node\"><title>id&#45;1&#45;8</title>\n",
       "<ellipse fill=\"none\" stroke=\"black\" cx=\"186.991\" cy=\"-249.87\" rx=\"28.9828\" ry=\"26.7407\"/>\n",
       "<text text-anchor=\"middle\" x=\"186.991\" y=\"-253.67\" font-family=\"Times,serif\" font-size=\"14.00\">0.01</text>\n",
       "<text text-anchor=\"middle\" x=\"186.991\" y=\"-238.67\" font-family=\"Times,serif\" font-size=\"14.00\">id</text>\n",
       "</g>\n",
       "<!-- id&#45;0&#45;1&#45;&gt;id&#45;1&#45;8 -->\n",
       "<g id=\"edge6\" class=\"edge\"><title>id&#45;0&#45;1&#45;&gt;id&#45;1&#45;8</title>\n",
       "<path fill=\"none\" stroke=\"black\" d=\"M184.748,-327.685C185.107,-315.395 185.542,-300.507 185.933,-287.121\"/>\n",
       "<polygon fill=\"black\" stroke=\"black\" points=\"189.441,-286.885 186.235,-276.787 182.444,-286.681 189.441,-286.885\"/>\n",
       "<text text-anchor=\"middle\" x=\"200.491\" y=\"-298.54\" font-family=\"Times,serif\" font-size=\"14.00\">&#45;0.48</text>\n",
       "</g>\n",
       "<!-- id&#45;1&#45;8&#45;&gt;mult&#45;2&#45;5 -->\n",
       "<g id=\"edge11\" class=\"edge\"><title>id&#45;1&#45;8&#45;&gt;mult&#45;2&#45;5:2</title>\n",
       "<path fill=\"none\" stroke=\"black\" d=\"M181.37,-223.073C174.673,-199.252 161.11,-166.511 136.133,-159.399\"/>\n",
       "<polygon fill=\"black\" stroke=\"black\" points=\"136.376,-155.899 125.991,-158 135.419,-162.834 136.376,-155.899\"/>\n",
       "<text text-anchor=\"middle\" x=\"187.491\" y=\"-193.8\" font-family=\"Times,serif\" font-size=\"14.00\">0.66</text>\n",
       "</g>\n",
       "<!-- id&#45;0&#45;6 -->\n",
       "<g id=\"node5\" class=\"node\"><title>id&#45;0&#45;6</title>\n",
       "<ellipse fill=\"none\" stroke=\"black\" cx=\"28.9914\" cy=\"-354.61\" rx=\"27\" ry=\"26.7407\"/>\n",
       "<text text-anchor=\"middle\" x=\"28.9914\" y=\"-358.41\" font-family=\"Times,serif\" font-size=\"14.00\">&#45;0.5</text>\n",
       "<text text-anchor=\"middle\" x=\"28.9914\" y=\"-343.41\" font-family=\"Times,serif\" font-size=\"14.00\">id</text>\n",
       "</g>\n",
       "<!-- id&#45;0&#45;6&#45;&gt;cos&#45;1&#45;27 -->\n",
       "<g id=\"edge7\" class=\"edge\"><title>id&#45;0&#45;6&#45;&gt;cos&#45;1&#45;27</title>\n",
       "<path fill=\"none\" stroke=\"black\" d=\"M28.9914,-327.685C28.9914,-315.395 28.9914,-300.507 28.9914,-287.121\"/>\n",
       "<polygon fill=\"black\" stroke=\"black\" points=\"32.4915,-286.787 28.9914,-276.787 25.4915,-286.787 32.4915,-286.787\"/>\n",
       "<text text-anchor=\"middle\" x=\"43.4914\" y=\"-298.54\" font-family=\"Times,serif\" font-size=\"14.00\">&#45;1.75</text>\n",
       "</g>\n",
       "<!-- x2 -->\n",
       "<g id=\"node6\" class=\"node\"><title>x2</title>\n",
       "<ellipse fill=\"none\" stroke=\"black\" cx=\"139.991\" cy=\"-450.48\" rx=\"27\" ry=\"18\"/>\n",
       "<text text-anchor=\"middle\" x=\"139.991\" y=\"-446.78\" font-family=\"Times,serif\" font-size=\"14.00\">x2</text>\n",
       "</g>\n",
       "<!-- x2&#45;&gt;sin&#45;0&#45;19 -->\n",
       "<g id=\"edge3\" class=\"edge\"><title>x2&#45;&gt;sin&#45;0&#45;19</title>\n",
       "<path fill=\"none\" stroke=\"black\" d=\"M134.092,-432.698C129.964,-420.958 124.303,-404.853 119.221,-390.398\"/>\n",
       "<polygon fill=\"black\" stroke=\"black\" points=\"122.44,-389.002 115.822,-380.729 115.837,-391.324 122.44,-389.002\"/>\n",
       "<text text-anchor=\"middle\" x=\"140.491\" y=\"-403.28\" font-family=\"Times,serif\" font-size=\"14.00\">3.14</text>\n",
       "</g>\n",
       "<!-- x2&#45;&gt;id&#45;0&#45;1 -->\n",
       "<g id=\"edge2\" class=\"edge\"><title>x2&#45;&gt;id&#45;0&#45;1</title>\n",
       "<path fill=\"none\" stroke=\"black\" d=\"M147.656,-433.129C153.446,-420.775 161.584,-403.414 168.691,-388.253\"/>\n",
       "<polygon fill=\"black\" stroke=\"black\" points=\"171.877,-389.701 172.952,-379.161 165.539,-386.73 171.877,-389.701\"/>\n",
       "<text text-anchor=\"middle\" x=\"178.491\" y=\"-403.28\" font-family=\"Times,serif\" font-size=\"14.00\">&#45;0.49</text>\n",
       "</g>\n",
       "<!-- x3 -->\n",
       "<g id=\"node7\" class=\"node\"><title>x3</title>\n",
       "<ellipse fill=\"none\" stroke=\"black\" cx=\"237.991\" cy=\"-450.48\" rx=\"27\" ry=\"18\"/>\n",
       "<text text-anchor=\"middle\" x=\"237.991\" y=\"-446.78\" font-family=\"Times,serif\" font-size=\"14.00\">x3</text>\n",
       "</g>\n",
       "<!-- mult&#45;0&#45;3 -->\n",
       "<g id=\"node13\" class=\"node\"><title>mult&#45;0&#45;3</title>\n",
       "<polygon fill=\"none\" stroke=\"black\" points=\"236.991,-354.61 236.991,-375.61 264.991,-375.61 264.991,-354.61 236.991,-354.61\"/>\n",
       "<text text-anchor=\"start\" x=\"239.991\" y=\"-361.41\" font-family=\"Times,serif\" font-size=\"14.00\">&#45;0.0</text>\n",
       "<polygon fill=\"none\" stroke=\"black\" points=\"264.991,-354.61 264.991,-375.61 292.991,-375.61 292.991,-354.61 264.991,-354.61\"/>\n",
       "<text text-anchor=\"start\" x=\"267.991\" y=\"-361.41\" font-family=\"Times,serif\" font-size=\"14.00\">&#45;0.0</text>\n",
       "<polygon fill=\"none\" stroke=\"black\" points=\"236.991,-333.61 236.991,-354.61 292.991,-354.61 292.991,-333.61 236.991,-333.61\"/>\n",
       "<text text-anchor=\"start\" x=\"251.991\" y=\"-340.41\" font-family=\"Times,serif\" font-size=\"14.00\">mult</text>\n",
       "</g>\n",
       "<!-- x3&#45;&gt;mult&#45;0&#45;3 -->\n",
       "<g id=\"edge4\" class=\"edge\"><title>x3&#45;&gt;mult&#45;0&#45;3:1</title>\n",
       "<path fill=\"none\" stroke=\"black\" d=\"M242.758,-432.553C245.831,-420.403 249.461,-403.319 250.618,-386.785\"/>\n",
       "<polygon fill=\"black\" stroke=\"black\" points=\"254.122,-386.732 250.991,-376.61 247.127,-386.475 254.122,-386.732\"/>\n",
       "<text text-anchor=\"middle\" x=\"263.491\" y=\"-403.28\" font-family=\"Times,serif\" font-size=\"14.00\">&#45;0.62</text>\n",
       "</g>\n",
       "<!-- x1 -->\n",
       "<g id=\"node8\" class=\"node\"><title>x1</title>\n",
       "<ellipse fill=\"none\" stroke=\"black\" cx=\"28.9914\" cy=\"-450.48\" rx=\"27\" ry=\"18\"/>\n",
       "<text text-anchor=\"middle\" x=\"28.9914\" y=\"-446.78\" font-family=\"Times,serif\" font-size=\"14.00\">x1</text>\n",
       "</g>\n",
       "<!-- x1&#45;&gt;id&#45;0&#45;6 -->\n",
       "<g id=\"edge1\" class=\"edge\"><title>x1&#45;&gt;id&#45;0&#45;6</title>\n",
       "<path fill=\"none\" stroke=\"black\" d=\"M28.9914,-432.263C28.9914,-420.959 28.9914,-405.749 28.9914,-391.858\"/>\n",
       "<polygon fill=\"black\" stroke=\"black\" points=\"32.4915,-391.579 28.9914,-381.579 25.4915,-391.579 32.4915,-391.579\"/>\n",
       "<text text-anchor=\"middle\" x=\"43.4914\" y=\"-403.28\" font-family=\"Times,serif\" font-size=\"14.00\">&#45;1.79</text>\n",
       "</g>\n",
       "<!-- x4 -->\n",
       "<g id=\"node9\" class=\"node\"><title>x4</title>\n",
       "<ellipse fill=\"none\" stroke=\"black\" cx=\"309.991\" cy=\"-450.48\" rx=\"27\" ry=\"18\"/>\n",
       "<text text-anchor=\"middle\" x=\"309.991\" y=\"-446.78\" font-family=\"Times,serif\" font-size=\"14.00\">x4</text>\n",
       "</g>\n",
       "<!-- x4&#45;&gt;mult&#45;0&#45;3 -->\n",
       "<g id=\"edge5\" class=\"edge\"><title>x4&#45;&gt;mult&#45;0&#45;3:2</title>\n",
       "<path fill=\"none\" stroke=\"black\" d=\"M298.975,-433.799C291.526,-421.901 282.566,-404.631 279.827,-386.997\"/>\n",
       "<polygon fill=\"black\" stroke=\"black\" points=\"283.282,-386.297 278.991,-376.61 276.305,-386.859 283.282,-386.297\"/>\n",
       "<text text-anchor=\"middle\" x=\"300.491\" y=\"-403.28\" font-family=\"Times,serif\" font-size=\"14.00\">0.62</text>\n",
       "</g>\n",
       "<!-- div/y1 -->\n",
       "<g id=\"node10\" class=\"node\"><title>div/y1</title>\n",
       "<polygon fill=\"none\" stroke=\"black\" points=\"76.9914,-45.5 76.9914,-66.5 107.991,-66.5 107.991,-45.5 76.9914,-45.5\"/>\n",
       "<text text-anchor=\"start\" x=\"79.9914\" y=\"-52.3\" font-family=\"Times,serif\" font-size=\"14.00\">0.23</text>\n",
       "<polygon fill=\"none\" stroke=\"black\" points=\"107.991,-45.5 107.991,-66.5 138.991,-66.5 138.991,-45.5 107.991,-45.5\"/>\n",
       "<text text-anchor=\"start\" x=\"110.991\" y=\"-52.3\" font-family=\"Times,serif\" font-size=\"14.00\">0.63</text>\n",
       "<polygon fill=\"none\" stroke=\"black\" points=\"76.9914,-24.5 76.9914,-45.5 138.991,-45.5 138.991,-24.5 76.9914,-24.5\"/>\n",
       "<text text-anchor=\"start\" x=\"98.9914\" y=\"-31.3\" font-family=\"Times,serif\" font-size=\"14.00\">div</text>\n",
       "<polygon fill=\"none\" stroke=\"black\" points=\"76.9914,-3.5 76.9914,-24.5 138.991,-24.5 138.991,-3.5 76.9914,-3.5\"/>\n",
       "<text text-anchor=\"start\" x=\"100.991\" y=\"-10.3\" font-family=\"Times,serif\" font-size=\"14.00\">y1</text>\n",
       "</g>\n",
       "<!-- mult&#45;2&#45;5&#45;&gt;div/y1 -->\n",
       "<g id=\"edge14\" class=\"edge\"><title>mult&#45;2&#45;5&#45;&gt;div/y1:1</title>\n",
       "<path fill=\"none\" stroke=\"black\" d=\"M91.9914,-121.95C91.9914,-109.206 91.9914,-93.0188 91.9914,-77.5324\"/>\n",
       "<polygon fill=\"black\" stroke=\"black\" points=\"95.4915,-77.5 91.9914,-67.5 88.4915,-77.5 95.4915,-77.5\"/>\n",
       "<text text-anchor=\"middle\" x=\"100.991\" y=\"-92.8\" font-family=\"Times,serif\" font-size=\"14.00\">0.6</text>\n",
       "</g>\n",
       "<!-- mult&#45;1&#45;5&#45;&gt;mult&#45;2&#45;5 -->\n",
       "<g id=\"edge13\" class=\"edge\"><title>mult&#45;1&#45;5&#45;&gt;mult&#45;2&#45;5:2</title>\n",
       "<path fill=\"none\" stroke=\"black\" d=\"M107.991,-224.754C107.991,-211.754 107.991,-195.161 107.991,-179.285\"/>\n",
       "<polygon fill=\"black\" stroke=\"black\" points=\"111.491,-179 107.991,-169 104.491,-179 111.491,-179\"/>\n",
       "<text text-anchor=\"middle\" x=\"120.491\" y=\"-193.8\" font-family=\"Times,serif\" font-size=\"14.00\">0.67</text>\n",
       "</g>\n",
       "<!-- mult&#45;0&#45;3&#45;&gt;id&#45;1&#45;8 -->\n",
       "<g id=\"edge10\" class=\"edge\"><title>mult&#45;0&#45;3&#45;&gt;id&#45;1&#45;8</title>\n",
       "<path fill=\"none\" stroke=\"black\" d=\"M246.704,-329.522C235.61,-314.91 221.366,-296.148 209.573,-280.614\"/>\n",
       "<polygon fill=\"black\" stroke=\"black\" points=\"212.143,-278.211 203.309,-272.363 206.568,-282.444 212.143,-278.211\"/>\n",
       "<text text-anchor=\"middle\" x=\"243.491\" y=\"-298.54\" font-family=\"Times,serif\" font-size=\"14.00\">0.62</text>\n",
       "</g>\n",
       "</g>\n",
       "</svg>\n"
      ],
      "text/plain": [
       "<graphviz.dot.Digraph at 0x7f6601accc50>"
      ]
     },
     "execution_count": 14,
     "metadata": {},
     "output_type": "execute_result"
    }
   ],
   "source": [
    "g=functionGraph(classifier_c,0.05)\n",
    "g"
   ]
  },
  {
   "cell_type": "markdown",
   "metadata": {},
   "source": [
    "1/3(sin(pi x1) + sin(2 pi x2 + pi/8) + x2 - x3*x4)"
   ]
  },
  {
   "cell_type": "code",
   "execution_count": 16,
   "metadata": {
    "ExecuteTime": {
     "end_time": "2018-06-19T11:31:43.725240Z",
     "start_time": "2018-06-19T11:31:43.673407Z"
    },
    "collapsed": false
   },
   "outputs": [
    {
     "data": {
      "text/plain": [
       "'graphics/f0-3layer.pdf'"
      ]
     },
     "execution_count": 16,
     "metadata": {},
     "output_type": "execute_result"
    }
   ],
   "source": [
    "g.render('graphics/f0-3layer')"
   ]
  },
  {
   "cell_type": "markdown",
   "metadata": {},
   "source": [
    "# F1"
   ]
  },
  {
   "cell_type": "code",
   "execution_count": 4,
   "metadata": {
    "ExecuteTime": {
     "end_time": "2018-06-19T22:43:13.458443",
     "start_time": "2018-06-19T22:43:13.455763"
    },
    "collapsed": true
   },
   "outputs": [],
   "source": [
    "def F1(x):\n",
    "    x1,x2,x3,x4 = x\n",
    "    return [(np.sin(x1*np.pi)+np.sin(x2*np.pi*2+np.pi/8)+x2-x3*x4)/3.0]"
   ]
  },
  {
   "cell_type": "code",
   "execution_count": 6,
   "metadata": {
    "ExecuteTime": {
     "end_time": "2018-06-19T22:45:04.333903",
     "start_time": "2018-06-19T22:45:04.311510"
    },
    "collapsed": false
   },
   "outputs": [
    {
     "name": "stdout",
     "output_type": "stream",
     "text": [
      "['k', 'iter', 'layers', 'epochs', 'nodes', 'lr', 'L1', 'L2', 'shortcut', 'batchsize', 'regstart', 'regend', 'id', 'dataset', 'gradient', 'numactive', 'bestnumactive', 'bestepoch', 'runtime', 'extrapol1', 'extrapol2', 'extrapolbest1', 'extrapolbest2', 'valerror', 'valerrorbest', 'testerror']\n",
      "50\n"
     ]
    }
   ],
   "source": [
    "f = gzip.open(\"data/f1-n-10k-1.dat.gz\", 'rb')\n",
    "\n",
    "data = cPickle.load(f)\n",
    "base=\"result_f1-EQLDIV/\"\n",
    "\n",
    "(runs,comments)=readCSVTable(base + \"all.dat\")\n",
    "header=comments[0][0].split(' ')\n",
    "assert(header[0]==\"#C\")\n",
    "header = header[1:]\n",
    "print header\n",
    "print len(runs)"
   ]
  },
  {
   "cell_type": "code",
   "execution_count": 7,
   "metadata": {
    "ExecuteTime": {
     "end_time": "2018-06-19T22:45:05.670319",
     "start_time": "2018-06-19T22:45:05.664847"
    },
    "collapsed": false
   },
   "outputs": [
    {
     "name": "stdout",
     "output_type": "stream",
     "text": [
      "lines:  50\n",
      "(' best extrapolating model: (only for information):', (2, 0.00363164992029))\n",
      "selected instance model: score: 0.0 id: 2 #active: 4.0\t val-error: 0.00010261306056\t extra-pol2-error: 0.00363164992029\n"
     ]
    }
   ],
   "source": [
    "best_instance = model_sel.select_instance(base + \"all.dat\")"
   ]
  },
  {
   "cell_type": "code",
   "execution_count": 8,
   "metadata": {
    "ExecuteTime": {
     "end_time": "2018-06-19T22:45:18.442236",
     "start_time": "2018-06-19T22:45:18.437300"
    },
    "collapsed": false
   },
   "outputs": [
    {
     "data": {
      "text/plain": [
       "{'extrapol2': 0.00363164992029,\n",
       " 'id': 2,\n",
       " 'num_active': 4.0,\n",
       " 'score': 0.0,\n",
       " 'valerror': 0.00010261306056}"
      ]
     },
     "execution_count": 8,
     "metadata": {},
     "output_type": "execute_result"
    }
   ],
   "source": [
    "best_instance"
   ]
  },
  {
   "cell_type": "code",
   "execution_count": 9,
   "metadata": {
    "ExecuteTime": {
     "end_time": "2018-06-19T22:45:20.451966",
     "start_time": "2018-06-19T22:45:20.445724"
    },
    "collapsed": false
   },
   "outputs": [
    {
     "data": {
      "text/plain": [
       "'99999999999 1 2 10000 10 0.01 0.000251188643151 0.001 False 20 2500 9500 2 data/f1-n-10k-1.dat.gz sgd 4 4 10000 35.198840181 0.000106383799524 0.00363164992029 0.000106383799524 0.00363164992029 0.00010261306056 0.00010261306056 0.000104327840695'"
      ]
     },
     "execution_count": 9,
     "metadata": {},
     "output_type": "execute_result"
    }
   ],
   "source": [
    "runid = best_instance['id']\n",
    "state = cPickle.load(open(base + str(runid) + \".last_state\",\"rb\"))\n",
    "runparams=getRuns(header,runs,\"id\",int, runid)[0]\n",
    "\" \".join(runparams)"
   ]
  },
  {
   "cell_type": "code",
   "execution_count": 10,
   "metadata": {
    "ExecuteTime": {
     "end_time": "2018-06-19T22:46:12.450043",
     "start_time": "2018-06-19T22:45:21.265402"
    },
    "collapsed": false
   },
   "outputs": [
    {
     "name": "stdout",
     "output_type": "stream",
     "text": [
      "Max input value is:  0.9999932360988908\n",
      "... building the model\n",
      "Gradient: sgd\n",
      "... training\n",
      "Optimization complete. Best validation score of inf obtained at epoch 1, with test performance 0.000000 \n"
     ]
    },
    {
     "name": "stderr",
     "output_type": "stream",
     "text": [
      "The code for file mlfg_final.pyc ran for 0.00m\n"
     ]
    }
   ],
   "source": [
    "reload(mlfg_div)\n",
    "trained = mlfg_div.test_mlfg(datasets=data,n_epochs=0,verbose=False,learning_rate=0.005, basefuncs1=[0,1,2],\n",
    "                        L1_reg=float(runparams[getIdx(header,\"L1\")]),L2_reg=float(runparams[getIdx(header,\"L2\")]),reg_start=0,\n",
    "                        n_layer=int(runparams[getIdx(header,\"layers\")]), n_per_base=int(runparams[getIdx(header,\"nodes\")]),\n",
    "                        classifier=None, gradient=runparams[getIdx(header,\"gradient\")],\n",
    "                        init_state=state)"
   ]
  },
  {
   "cell_type": "code",
   "execution_count": 20,
   "metadata": {
    "ExecuteTime": {
     "end_time": "2018-06-19T22:53:36.950435",
     "start_time": "2018-06-19T22:53:36.661409"
    },
    "collapsed": false
   },
   "outputs": [
    {
     "name": "stdout",
     "output_type": "stream",
     "text": [
      "NumActive: 4\n",
      "0.004560964340079973\n"
     ]
    },
    {
     "data": {
      "image/png": "[encoded data removed]",
      "text/plain": [
       "<matplotlib.figure.Figure at 0x7febceaf8e50>"
      ]
     },
     "metadata": {},
     "output_type": "display_data"
    }
   ],
   "source": [
    "classifier_c = trained[\"classifier\"]\n",
    "classifier_c.set_state(state)\n",
    "print \"NumActive:\",classifier_c.get_num_active_units()\n",
    "xs = np.arange(-3,3,0.01)\n",
    "inputs=np.asarray([[x,x,x,0.1*x] for x in xs])\n",
    "outputs=np.asarray([F1(x) for x in inputs])\n",
    "cout=classifier_c.evaluate(inputs)\n",
    "\n",
    "print np.mean((cout[:,0]-outputs[:,0])**2)\n",
    "plot(xs,cout[:,0],c='b')\n",
    "plot(xs,outputs[:,0],c='r')\n",
    "pylab.axvspan(-1,1, facecolor='0.8', alpha=0.5)\n",
    "for extra in [1.5,2.0]:\n",
    "    pylab.axvline(-extra*1,c='0.8')\n",
    "    pylab.axvline(extra*1,c='0.8')\n",
    "#inputs.shape"
   ]
  },
  {
   "cell_type": "code",
   "execution_count": 22,
   "metadata": {
    "ExecuteTime": {
     "end_time": "2018-06-19T23:00:56.943549",
     "start_time": "2018-06-19T23:00:56.857875"
    },
    "collapsed": false,
    "scrolled": true
   },
   "outputs": [
    {
     "data": {
      "image/svg+xml": [
       "<?xml version=\"1.0\" encoding=\"UTF-8\" standalone=\"no\"?>\n",
       "<!DOCTYPE svg PUBLIC \"-//W3C//DTD SVG 1.1//EN\"\n",
       " \"http://www.w3.org/Graphics/SVG/1.1/DTD/svg11.dtd\">\n",
       "<!-- Generated by graphviz version 2.36.0 (20140111.2315)\n",
       " -->\n",
       "<!-- Title: %3 Pages: 1 -->\n",
       "<svg width=\"441pt\" height=\"378pt\"\n",
       " viewBox=\"0.00 0.00 441.00 378.00\" xmlns=\"http://www.w3.org/2000/svg\" xmlns:xlink=\"http://www.w3.org/1999/xlink\">\n",
       "<g id=\"graph0\" class=\"graph\" transform=\"scale(1 1) rotate(0) translate(4 374)\">\n",
       "<title>%3</title>\n",
       "<polygon fill=\"white\" stroke=\"none\" points=\"-4,4 -4,-374 437,-374 437,4 -4,4\"/>\n",
       "<!-- sin&#45;0&#45;15 -->\n",
       "<g id=\"node1\" class=\"node\"><title>sin&#45;0&#45;15</title>\n",
       "<ellipse fill=\"none\" stroke=\"black\" cx=\"232\" cy=\"-255\" rx=\"28.4872\" ry=\"26.7407\"/>\n",
       "<text text-anchor=\"middle\" x=\"232\" y=\"-258.8\" font-family=\"Times,serif\" font-size=\"14.00\">0.58</text>\n",
       "<text text-anchor=\"middle\" x=\"232\" y=\"-243.8\" font-family=\"Times,serif\" font-size=\"14.00\">sin</text>\n",
       "</g>\n",
       "<!-- mult&#45;1&#45;6 -->\n",
       "<g id=\"node9\" class=\"node\"><title>mult&#45;1&#45;6</title>\n",
       "<polygon fill=\"none\" stroke=\"black\" points=\"172,-149 172,-171 197,-171 197,-149 172,-149\"/>\n",
       "<text text-anchor=\"start\" x=\"175.5\" y=\"-156.3\" font-family=\"Times,serif\" font-size=\"14.00\">0.1</text>\n",
       "<polygon fill=\"none\" stroke=\"black\" points=\"197,-149 197,-171 232,-171 232,-149 197,-149\"/>\n",
       "<text text-anchor=\"start\" x=\"200\" y=\"-156.3\" font-family=\"Times,serif\" font-size=\"14.00\">&#45;2.29</text>\n",
       "<polygon fill=\"none\" stroke=\"black\" points=\"172,-128 172,-149 232,-149 232,-128 172,-128\"/>\n",
       "<text text-anchor=\"start\" x=\"189\" y=\"-134.8\" font-family=\"Times,serif\" font-size=\"14.00\">mult</text>\n",
       "</g>\n",
       "<!-- sin&#45;0&#45;15&#45;&gt;mult&#45;1&#45;6 -->\n",
       "<g id=\"edge11\" class=\"edge\"><title>sin&#45;0&#45;15&#45;&gt;mult&#45;1&#45;6:1</title>\n",
       "<path fill=\"none\" stroke=\"black\" d=\"M208.987,-238.735C199.769,-231.268 190.131,-221.419 185,-210 179.644,-198.081 181.975,-191.974 183.306,-182.002\"/>\n",
       "<polygon fill=\"black\" stroke=\"black\" points=\"186.799,-182.218 184,-172 179.816,-181.734 186.799,-182.218\"/>\n",
       "<text text-anchor=\"middle\" x=\"197.5\" y=\"-198.3\" font-family=\"Times,serif\" font-size=\"14.00\">0.08</text>\n",
       "</g>\n",
       "<!-- mult&#45;1&#45;4 -->\n",
       "<g id=\"node10\" class=\"node\"><title>mult&#45;1&#45;4</title>\n",
       "<polygon fill=\"none\" stroke=\"black\" points=\"280,-149 280,-171 316,-171 316,-149 280,-149\"/>\n",
       "<text text-anchor=\"start\" x=\"283.5\" y=\"-156.3\" font-family=\"Times,serif\" font-size=\"14.00\">&#45;0.09</text>\n",
       "<polygon fill=\"none\" stroke=\"black\" points=\"316,-149 316,-171 347,-171 347,-149 316,-149\"/>\n",
       "<text text-anchor=\"start\" x=\"319\" y=\"-156.3\" font-family=\"Times,serif\" font-size=\"14.00\">0.22</text>\n",
       "<polygon fill=\"none\" stroke=\"black\" points=\"280,-128 280,-149 347,-149 347,-128 280,-128\"/>\n",
       "<text text-anchor=\"start\" x=\"300.5\" y=\"-134.8\" font-family=\"Times,serif\" font-size=\"14.00\">mult</text>\n",
       "</g>\n",
       "<!-- sin&#45;0&#45;15&#45;&gt;mult&#45;1&#45;4 -->\n",
       "<g id=\"edge10\" class=\"edge\"><title>sin&#45;0&#45;15&#45;&gt;mult&#45;1&#45;4:1</title>\n",
       "<path fill=\"none\" stroke=\"black\" d=\"M227.523,-228.251C226.8,-217.155 227.659,-204.374 233,-194 237.591,-185.082 255.663,-169.069 269.328,-162.71\"/>\n",
       "<polygon fill=\"black\" stroke=\"black\" points=\"270.315,-166.068 279,-160 268.427,-159.328 270.315,-166.068\"/>\n",
       "<text text-anchor=\"middle\" x=\"247.5\" y=\"-198.3\" font-family=\"Times,serif\" font-size=\"14.00\">&#45;0.56</text>\n",
       "</g>\n",
       "<!-- sin&#45;0&#45;15&#45;&gt;mult&#45;1&#45;4 -->\n",
       "<g id=\"edge12\" class=\"edge\"><title>sin&#45;0&#45;15&#45;&gt;mult&#45;1&#45;4:2</title>\n",
       "<path fill=\"none\" stroke=\"black\" d=\"M258.798,-245.172C285.642,-234.618 323.951,-214.26 330.898,-182.295\"/>\n",
       "<polygon fill=\"black\" stroke=\"black\" points=\"334.416,-182.316 332,-172 327.456,-181.571 334.416,-182.316\"/>\n",
       "<text text-anchor=\"middle\" x=\"340.5\" y=\"-198.3\" font-family=\"Times,serif\" font-size=\"14.00\">&#45;0.57</text>\n",
       "</g>\n",
       "<!-- sin&#45;0&#45;14 -->\n",
       "<g id=\"node2\" class=\"node\"><title>sin&#45;0&#45;14</title>\n",
       "<ellipse fill=\"none\" stroke=\"black\" cx=\"384\" cy=\"-255\" rx=\"31.233\" ry=\"26.7407\"/>\n",
       "<text text-anchor=\"middle\" x=\"384\" y=\"-258.8\" font-family=\"Times,serif\" font-size=\"14.00\">&#45;0.78</text>\n",
       "<text text-anchor=\"middle\" x=\"384\" y=\"-243.8\" font-family=\"Times,serif\" font-size=\"14.00\">sin</text>\n",
       "</g>\n",
       "<!-- sin&#45;0&#45;14&#45;&gt;mult&#45;1&#45;6 -->\n",
       "<g id=\"edge8\" class=\"edge\"><title>sin&#45;0&#45;14&#45;&gt;mult&#45;1&#45;6:1</title>\n",
       "<path fill=\"none\" stroke=\"black\" d=\"M356.257,-242.354C336.848,-233.949 310.477,-222.009 288,-210 276.033,-203.606 274.426,-199.449 262,-194 232.75,-181.173 194.044,-202.117 185.65,-181.914\"/>\n",
       "<polygon fill=\"black\" stroke=\"black\" points=\"189.094,-181.29 184,-172 182.189,-182.439 189.094,-181.29\"/>\n",
       "<text text-anchor=\"middle\" x=\"300.5\" y=\"-198.3\" font-family=\"Times,serif\" font-size=\"14.00\">0.19</text>\n",
       "</g>\n",
       "<!-- sin&#45;0&#45;14&#45;&gt;mult&#45;1&#45;4 -->\n",
       "<g id=\"edge7\" class=\"edge\"><title>sin&#45;0&#45;14&#45;&gt;mult&#45;1&#45;4:1</title>\n",
       "<path fill=\"none\" stroke=\"black\" d=\"M379.786,-228.178C376.664,-216.398 371.272,-203.085 362,-194 343.705,-176.074 310.159,-194.536 300.603,-181.838\"/>\n",
       "<polygon fill=\"black\" stroke=\"black\" points=\"303.941,-180.772 298,-172 297.174,-182.563 303.941,-180.772\"/>\n",
       "<text text-anchor=\"middle\" x=\"386.5\" y=\"-198.3\" font-family=\"Times,serif\" font-size=\"14.00\">&#45;0.55</text>\n",
       "</g>\n",
       "<!-- sin&#45;0&#45;14&#45;&gt;mult&#45;1&#45;4 -->\n",
       "<g id=\"edge9\" class=\"edge\"><title>sin&#45;0&#45;14&#45;&gt;mult&#45;1&#45;4:2</title>\n",
       "<path fill=\"none\" stroke=\"black\" d=\"M400.543,-231.801C407.117,-220.116 411.703,-205.804 405,-194 392.197,-171.456 380.655,-162.276 358.02,-160.383\"/>\n",
       "<polygon fill=\"black\" stroke=\"black\" points=\"358.126,-156.885 348,-160 357.859,-163.88 358.126,-156.885\"/>\n",
       "<text text-anchor=\"middle\" x=\"420.5\" y=\"-198.3\" font-family=\"Times,serif\" font-size=\"14.00\">0.56</text>\n",
       "</g>\n",
       "<!-- id&#45;0&#45;10 -->\n",
       "<g id=\"node3\" class=\"node\"><title>id&#45;0&#45;10</title>\n",
       "<ellipse fill=\"none\" stroke=\"black\" cx=\"156\" cy=\"-255\" rx=\"28.4872\" ry=\"26.7407\"/>\n",
       "<text text-anchor=\"middle\" x=\"156\" y=\"-258.8\" font-family=\"Times,serif\" font-size=\"14.00\">0.03</text>\n",
       "<text text-anchor=\"middle\" x=\"156\" y=\"-243.8\" font-family=\"Times,serif\" font-size=\"14.00\">id</text>\n",
       "</g>\n",
       "<!-- id&#45;0&#45;10&#45;&gt;mult&#45;1&#45;6 -->\n",
       "<g id=\"edge6\" class=\"edge\"><title>id&#45;0&#45;10&#45;&gt;mult&#45;1&#45;6:1</title>\n",
       "<path fill=\"none\" stroke=\"black\" d=\"M150.257,-228.314C146.128,-204.396 143.911,-171.136 160.99,-162.254\"/>\n",
       "<polygon fill=\"black\" stroke=\"black\" points=\"162.013,-165.611 171,-160 160.475,-158.782 162.013,-165.611\"/>\n",
       "<text text-anchor=\"middle\" x=\"160.5\" y=\"-198.3\" font-family=\"Times,serif\" font-size=\"14.00\">0.37</text>\n",
       "</g>\n",
       "<!-- x2 -->\n",
       "<g id=\"node4\" class=\"node\"><title>x2</title>\n",
       "<ellipse fill=\"none\" stroke=\"black\" cx=\"196\" cy=\"-352\" rx=\"27\" ry=\"18\"/>\n",
       "<text text-anchor=\"middle\" x=\"196\" y=\"-348.3\" font-family=\"Times,serif\" font-size=\"14.00\">x2</text>\n",
       "</g>\n",
       "<!-- x2&#45;&gt;sin&#45;0&#45;15 -->\n",
       "<g id=\"edge3\" class=\"edge\"><title>x2&#45;&gt;sin&#45;0&#45;15</title>\n",
       "<path fill=\"none\" stroke=\"black\" d=\"M202.271,-334.452C206.898,-322.242 213.356,-305.198 219.072,-290.116\"/>\n",
       "<polygon fill=\"black\" stroke=\"black\" points=\"222.423,-291.149 222.694,-280.558 215.877,-288.668 222.423,-291.149\"/>\n",
       "<text text-anchor=\"middle\" x=\"230.5\" y=\"-304.3\" font-family=\"Times,serif\" font-size=\"14.00\">&#45;3.11</text>\n",
       "</g>\n",
       "<!-- x2&#45;&gt;id&#45;0&#45;10 -->\n",
       "<g id=\"edge2\" class=\"edge\"><title>x2&#45;&gt;id&#45;0&#45;10</title>\n",
       "<path fill=\"none\" stroke=\"black\" d=\"M186.552,-334.892C183.312,-329.045 179.8,-322.321 177,-316 173.434,-307.95 170.051,-299.09 167.083,-290.707\"/>\n",
       "<polygon fill=\"black\" stroke=\"black\" points=\"170.363,-289.482 163.804,-281.162 163.743,-291.756 170.363,-289.482\"/>\n",
       "<text text-anchor=\"middle\" x=\"191.5\" y=\"-304.3\" font-family=\"Times,serif\" font-size=\"14.00\">&#45;0.43</text>\n",
       "</g>\n",
       "<!-- x3 -->\n",
       "<g id=\"node5\" class=\"node\"><title>x3</title>\n",
       "<ellipse fill=\"none\" stroke=\"black\" cx=\"99\" cy=\"-352\" rx=\"27\" ry=\"18\"/>\n",
       "<text text-anchor=\"middle\" x=\"99\" y=\"-348.3\" font-family=\"Times,serif\" font-size=\"14.00\">x3</text>\n",
       "</g>\n",
       "<!-- mult&#45;0&#45;5 -->\n",
       "<g id=\"node11\" class=\"node\"><title>mult&#45;0&#45;5</title>\n",
       "<polygon fill=\"none\" stroke=\"black\" points=\"49,-254 49,-276 78,-276 78,-254 49,-254\"/>\n",
       "<text text-anchor=\"start\" x=\"52.5\" y=\"-261.3\" font-family=\"Times,serif\" font-size=\"14.00\">&#45;0.0</text>\n",
       "<polygon fill=\"none\" stroke=\"black\" points=\"78,-254 78,-276 102,-276 102,-254 78,-254\"/>\n",
       "<text text-anchor=\"start\" x=\"81\" y=\"-261.3\" font-family=\"Times,serif\" font-size=\"14.00\">0.0</text>\n",
       "<polygon fill=\"none\" stroke=\"black\" points=\"49,-233 49,-254 102,-254 102,-233 49,-233\"/>\n",
       "<text text-anchor=\"start\" x=\"62.5\" y=\"-239.8\" font-family=\"Times,serif\" font-size=\"14.00\">mult</text>\n",
       "</g>\n",
       "<!-- x3&#45;&gt;mult&#45;0&#45;5 -->\n",
       "<g id=\"edge4\" class=\"edge\"><title>x3&#45;&gt;mult&#45;0&#45;5:2</title>\n",
       "<path fill=\"none\" stroke=\"black\" d=\"M95.7508,-334.024C93.6159,-321.641 91.0731,-304.152 90.2621,-287.333\"/>\n",
       "<polygon fill=\"black\" stroke=\"black\" points=\"93.7525,-286.908 90,-277 86.7547,-287.086 93.7525,-286.908\"/>\n",
       "<text text-anchor=\"middle\" x=\"105.5\" y=\"-304.3\" font-family=\"Times,serif\" font-size=\"14.00\">0.55</text>\n",
       "</g>\n",
       "<!-- x1 -->\n",
       "<g id=\"node6\" class=\"node\"><title>x1</title>\n",
       "<ellipse fill=\"none\" stroke=\"black\" cx=\"384\" cy=\"-352\" rx=\"27\" ry=\"18\"/>\n",
       "<text text-anchor=\"middle\" x=\"384\" y=\"-348.3\" font-family=\"Times,serif\" font-size=\"14.00\">x1</text>\n",
       "</g>\n",
       "<!-- x1&#45;&gt;sin&#45;0&#45;14 -->\n",
       "<g id=\"edge1\" class=\"edge\"><title>x1&#45;&gt;sin&#45;0&#45;14</title>\n",
       "<path fill=\"none\" stroke=\"black\" d=\"M384,-333.576C384,-321.938 384,-306.208 384,-291.954\"/>\n",
       "<polygon fill=\"black\" stroke=\"black\" points=\"387.5,-291.916 384,-281.916 380.5,-291.916 387.5,-291.916\"/>\n",
       "<text text-anchor=\"middle\" x=\"398.5\" y=\"-304.3\" font-family=\"Times,serif\" font-size=\"14.00\">&#45;1.57</text>\n",
       "</g>\n",
       "<!-- x4 -->\n",
       "<g id=\"node7\" class=\"node\"><title>x4</title>\n",
       "<ellipse fill=\"none\" stroke=\"black\" cx=\"27\" cy=\"-352\" rx=\"27\" ry=\"18\"/>\n",
       "<text text-anchor=\"middle\" x=\"27\" y=\"-348.3\" font-family=\"Times,serif\" font-size=\"14.00\">x4</text>\n",
       "</g>\n",
       "<!-- x4&#45;&gt;mult&#45;0&#45;5 -->\n",
       "<g id=\"edge5\" class=\"edge\"><title>x4&#45;&gt;mult&#45;0&#45;5:1</title>\n",
       "<path fill=\"none\" stroke=\"black\" d=\"M24.2879,-334.009C21.6587,-312.471 20.2889,-276.986 37.8062,-267.432\"/>\n",
       "<polygon fill=\"black\" stroke=\"black\" points=\"39.0855,-270.726 48,-265 37.4607,-263.917 39.0855,-270.726\"/>\n",
       "<text text-anchor=\"middle\" x=\"36.5\" y=\"-304.3\" font-family=\"Times,serif\" font-size=\"14.00\">0.55</text>\n",
       "</g>\n",
       "<!-- div/y1 -->\n",
       "<g id=\"node8\" class=\"node\"><title>div/y1</title>\n",
       "<polygon fill=\"none\" stroke=\"black\" points=\"249,-46 249,-68 281,-68 281,-46 249,-46\"/>\n",
       "<text text-anchor=\"start\" x=\"252.5\" y=\"-53.3\" font-family=\"Times,serif\" font-size=\"14.00\">0.06</text>\n",
       "<polygon fill=\"none\" stroke=\"black\" points=\"281,-46 281,-68 312,-68 312,-46 281,-46\"/>\n",
       "<text text-anchor=\"start\" x=\"284\" y=\"-53.3\" font-family=\"Times,serif\" font-size=\"14.00\">0.36</text>\n",
       "<polygon fill=\"none\" stroke=\"black\" points=\"249,-25 249,-46 312,-46 312,-25 249,-25\"/>\n",
       "<text text-anchor=\"start\" x=\"271.5\" y=\"-31.8\" font-family=\"Times,serif\" font-size=\"14.00\">div</text>\n",
       "<polygon fill=\"none\" stroke=\"black\" points=\"249,-4 249,-25 312,-25 312,-4 249,-4\"/>\n",
       "<text text-anchor=\"start\" x=\"273.5\" y=\"-10.8\" font-family=\"Times,serif\" font-size=\"14.00\">y1</text>\n",
       "</g>\n",
       "<!-- mult&#45;1&#45;6&#45;&gt;div/y1 -->\n",
       "<g id=\"edge15\" class=\"edge\"><title>mult&#45;1&#45;6&#45;&gt;div/y1:1</title>\n",
       "<path fill=\"none\" stroke=\"black\" d=\"M216.186,-124.41C223.05,-113.395 231.791,-100.542 241,-90 247.265,-82.8283 255.945,-82.212 260.967,-78.2809\"/>\n",
       "<polygon fill=\"black\" stroke=\"black\" points=\"264.225,-79.5665 265,-69 257.805,-76.7768 264.225,-79.5665\"/>\n",
       "<text text-anchor=\"middle\" x=\"253.5\" y=\"-94.3\" font-family=\"Times,serif\" font-size=\"14.00\">0.32</text>\n",
       "</g>\n",
       "<!-- mult&#45;1&#45;4&#45;&gt;div/y1 -->\n",
       "<g id=\"edge14\" class=\"edge\"><title>mult&#45;1&#45;4&#45;&gt;div/y1:1</title>\n",
       "<path fill=\"none\" stroke=\"black\" d=\"M288.719,-124.201C278.766,-111.845 268.879,-95.947 265.902,-79.047\"/>\n",
       "<polygon fill=\"black\" stroke=\"black\" points=\"269.38,-78.6469 265,-69 262.408,-79.273 269.38,-78.6469\"/>\n",
       "<text text-anchor=\"middle\" x=\"289.5\" y=\"-94.3\" font-family=\"Times,serif\" font-size=\"14.00\">&#45;0.77</text>\n",
       "</g>\n",
       "<!-- mult&#45;0&#45;5&#45;&gt;mult&#45;1&#45;6 -->\n",
       "<g id=\"edge13\" class=\"edge\"><title>mult&#45;0&#45;5&#45;&gt;mult&#45;1&#45;6:1</title>\n",
       "<path fill=\"none\" stroke=\"black\" d=\"M86.7975,-229.303C100.715,-203.845 126.41,-167.024 161.008,-160.883\"/>\n",
       "<polygon fill=\"black\" stroke=\"black\" points=\"161.347,-164.367 171,-160 160.731,-157.394 161.347,-164.367\"/>\n",
       "<text text-anchor=\"middle\" x=\"122.5\" y=\"-198.3\" font-family=\"Times,serif\" font-size=\"14.00\">0.55</text>\n",
       "</g>\n",
       "</g>\n",
       "</svg>\n"
      ],
      "text/plain": [
       "<graphviz.dot.Digraph at 0x7feba58c7b10>"
      ]
     },
     "execution_count": 22,
     "metadata": {},
     "output_type": "execute_result"
    }
   ],
   "source": [
    "g=functionGraph(classifier_c,0.06)\n",
    "g"
   ]
  },
  {
   "cell_type": "markdown",
   "metadata": {},
   "source": [
    "1/3(sin(pi x1) + sin(2 pi x2 + pi/8) + x2 - x3*x4)"
   ]
  },
  {
   "cell_type": "markdown",
   "metadata": {
    "ExecuteTime": {
     "end_time": "2018-06-19T23:03:38.609490",
     "start_time": "2018-06-19T23:03:38.604848"
    }
   },
   "source": [
    "It uses trigonometric identities such as: sin(2theta) = 1-cos^2(theta)"
   ]
  },
  {
   "cell_type": "code",
   "execution_count": 13,
   "metadata": {
    "ExecuteTime": {
     "end_time": "2018-06-19T22:48:31.610618",
     "start_time": "2018-06-19T22:48:31.556633"
    },
    "collapsed": false
   },
   "outputs": [
    {
     "data": {
      "text/plain": [
       "'graphics/f1-2layer.pdf'"
      ]
     },
     "execution_count": 13,
     "metadata": {},
     "output_type": "execute_result"
    }
   ],
   "source": [
    "g.render('graphics/f1-2layer')"
   ]
  },
  {
   "cell_type": "code",
   "execution_count": 14,
   "metadata": {
    "ExecuteTime": {
     "end_time": "2018-06-19T22:48:33.019629",
     "start_time": "2018-06-19T22:48:32.903558"
    },
    "collapsed": true
   },
   "outputs": [],
   "source": [
    "train_losses = np.loadtxt(base + str(runid) + \".trainloss\")\n",
    "val_errors =  np.loadtxt(base + str(runid) + \".validerror\")"
   ]
  },
  {
   "cell_type": "code",
   "execution_count": 15,
   "metadata": {
    "ExecuteTime": {
     "end_time": "2018-06-19T22:48:34.192069",
     "start_time": "2018-06-19T22:48:33.834085"
    },
    "collapsed": false
   },
   "outputs": [
    {
     "data": {
      "text/plain": [
       "<matplotlib.legend.Legend at 0x7febb06a0f50>"
      ]
     },
     "execution_count": 15,
     "metadata": {},
     "output_type": "execute_result"
    },
    {
     "data": {
      "image/png": "[encoded data removed]",
      "text/plain": [
       "<matplotlib.figure.Figure at 0x7feba65ff090>"
      ]
     },
     "metadata": {},
     "output_type": "display_data"
    }
   ],
   "source": [
    "figure\n",
    "subplot(1,2,1)\n",
    "plot(train_losses[:,0],np.log(train_losses[:,1]),'b', label=\"training loss\")\n",
    "plt.legend()\n",
    "subplot(1,2,2)\n",
    "plot(val_errors[:,0],np.log(val_errors[:,1]),'r', label=\"validation loss\")\n",
    "plt.legend()"
   ]
  },
  {
   "cell_type": "code",
   "execution_count": null,
   "metadata": {
    "collapsed": true
   },
   "outputs": [],
   "source": []
  }
 ],
 "metadata": {
  "kernelspec": {
   "display_name": "Python 2",
   "language": "python",
   "name": "python2"
  },
  "language_info": {
   "codemirror_mode": {
    "name": "ipython",
    "version": 2
   },
   "file_extension": ".py",
   "mimetype": "text/x-python",
   "name": "python",
   "nbconvert_exporter": "python",
   "pygments_lexer": "ipython2",
   "version": "2.7.6"
  },
  "varInspector": {
   "cols": {
    "lenName": 16,
    "lenType": 16,
    "lenVar": 40
   },
   "kernels_config": {
    "python": {
     "delete_cmd_postfix": "",
     "delete_cmd_prefix": "del ",
     "library": "var_list.py",
     "varRefreshCmd": "print(var_dic_list())"
    },
    "r": {
     "delete_cmd_postfix": ") ",
     "delete_cmd_prefix": "rm(",
     "library": "var_list.r",
     "varRefreshCmd": "cat(var_dic_list()) "
    }
   },
   "types_to_exclude": [
    "module",
    "function",
    "builtin_function_or_method",
    "instance",
    "_Feature"
   ],
   "window_display": true
  }
 },
 "nbformat": 4,
 "nbformat_minor": 1
}
